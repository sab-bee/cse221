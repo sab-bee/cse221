{
 "cells": [
  {
   "attachments": {},
   "cell_type": "markdown",
   "metadata": {},
   "source": [
    "#### Question - 1\n",
    "\n",
    "a. Instead of just returning TRUE or FALSE, you want to return the index of the search key if it exists in the list. Return FALSE or –ve index in case it is not found. "
   ]
  },
  {
   "cell_type": "code",
   "execution_count": null,
   "metadata": {},
   "outputs": [],
   "source": [
    "\n",
    "def binarySearch(arr, low, high, x):\n",
    "  if low > high:\n",
    "    return -1, 0\n",
    "  mid = (low + high) // 2\n",
    "  midVal = arr[mid]\n",
    "\n",
    "  if midVal == x:\n",
    "    return mid\n",
    "  \n",
    "  if midVal > x:\n",
    "    return binarySearch(arr, low, mid-1, x)\n",
    "  \n",
    "  if midVal < x:\n",
    "    return binarySearch(arr, mid+1, high, x)"
   ]
  },
  {
   "attachments": {},
   "cell_type": "markdown",
   "metadata": {},
   "source": [
    "b. What if you want to return the first index of the search key in case there are duplicates. For example: your search key is 13 and there are three 13s in the list. \n",
    "\n",
    "  ```py\n",
    "  if midVal == x:\n",
    "    if arr[mid-1] == x:\n",
    "      return binarySearch(arr, low, mid-1, x)\n",
    "    return mid, count\n",
    "  ```\n"
   ]
  },
  {
   "attachments": {},
   "cell_type": "markdown",
   "metadata": {},
   "source": [
    "c. Now, along with the first index, you also want to return the number of times the key appears in the list. Say, the search key is 54 and it occurs 4 times in indices 6,7,8,9. Then you should return (6,4).\n",
    "\n",
    "```py\n",
    "  count = 0\n",
    "  for i in arr:\n",
    "    if x == i:\n",
    "      count+=1\n",
    "\n",
    "```"
   ]
  },
  {
   "cell_type": "code",
   "execution_count": 14,
   "metadata": {},
   "outputs": [
    {
     "name": "stdout",
     "output_type": "stream",
     "text": [
      "(6, 3)\n"
     ]
    }
   ],
   "source": [
    "def binarySearch(arr, low, high, x):\n",
    "\n",
    "  count = 0\n",
    "\n",
    "  if low > high:\n",
    "    return -1, 0\n",
    "\n",
    "  mid = (low + high) // 2\n",
    "  midVal = arr[mid]\n",
    "\n",
    "  if midVal == x:\n",
    "    if arr[mid-1] == x:\n",
    "      return binarySearch(arr, low, mid-1, x)\n",
    "    \n",
    "    for i in arr:\n",
    "      if x == i: count+=1\n",
    "    return mid, count\n",
    "  \n",
    "  if midVal > x:\n",
    "    return binarySearch(arr, low, mid-1, x)\n",
    "  \n",
    "  if midVal < x:\n",
    "    return binarySearch(arr, mid+1, high, x)\n",
    "\n",
    "arr = [1, 2, 3, 4, 5, 6, 7, 7, 7, 8]\n",
    "print(binarySearch(arr, 0, len(arr), 7))"
   ]
  },
  {
   "attachments": {},
   "cell_type": "markdown",
   "metadata": {},
   "source": [
    "#### Question - 2\n",
    "|index|0|1|2|3|4|5|6|7|\n",
    "|-|-|-|-|-|-|-|-|-|\n",
    "|numbers|23|2|19|3|7|11|5|13\n",
    "\n",
    "Will the algorithm given on the right be able to find the search value T=2 for the list above?\n",
    "If yes, show the value of L, R, m in each step of the algorithm. If no, explain why not."
   ]
  },
  {
   "cell_type": "code",
   "execution_count": 24,
   "metadata": {},
   "outputs": [
    {
     "name": "stdout",
     "output_type": "stream",
     "text": [
      "0 7 3\n",
      "0 2 1\n",
      "1\n"
     ]
    }
   ],
   "source": [
    "\n",
    "def binarySearch(a, n, t):\n",
    "    l = 0\n",
    "    r = n-1\n",
    "    while l <= r:\n",
    "        m = (l+r)//2\n",
    "        print(l, r, m)\n",
    "        if a[m] < t:\n",
    "            l = m+1\n",
    "        elif a[m] > t:\n",
    "            r = m-1\n",
    "        else:\n",
    "            return m\n",
    "    return 'un'       \n",
    "\n",
    "ans = binarySearch([23, 2, 19, 3, 7, 11, 6, 13], 8, 2)\n",
    "print(ans)"
   ]
  },
  {
   "attachments": {},
   "cell_type": "markdown",
   "metadata": {},
   "source": [
    "#### Question - 3\n",
    "\n",
    "You are given an array containing N distinct integers in a wave-like sequence. Meaning, the numbers in the beginning are in ascending order, and after a specific position, they are in descending order. For example: \n",
    "\n",
    "`[1, 3, 4, 5, 9, 6, 2, -1]`\n",
    "\n",
    "You have to find the maximum number of this sequence. Can you devise an efficient algorithm such that the time complexity will be less than O(N)?\n",
    "\n",
    "a. Present your solution idea as a pseudocode/ python code/ flowchart/ step-by-step instructions/ logical explanation in one-two paragraphs.\n",
    "\n",
    "b. Write the time complexity of your algorithm.\n"
   ]
  },
  {
   "cell_type": "code",
   "execution_count": 34,
   "metadata": {},
   "outputs": [
    {
     "name": "stdout",
     "output_type": "stream",
     "text": [
      "returning low\n",
      "9\n"
     ]
    }
   ],
   "source": [
    "def binarySearch(arr, low, high):\n",
    "    if low >= high:\n",
    "        print('returning low')\n",
    "        return low\n",
    "    mid = (low + high) // 2\n",
    "    \n",
    "    if arr[mid] > arr[mid+1]:\n",
    "        return binarySearch(arr, low, mid)\n",
    "    else:\n",
    "        return binarySearch(arr, mid+1, high)\n",
    "\n",
    "\n",
    "arr = [1, 3, 4, 5, 9, 6, 2, -1]\n",
    "ans = binarySearch(arr, 0, len(arr))\n",
    "print(arr[ans])\n",
    "\n",
    "# complexity logn\n"
   ]
  },
  {
   "attachments": {},
   "cell_type": "markdown",
   "metadata": {},
   "source": [
    "#### Question - 4\n",
    "\n",
    "#### a)\n",
    " You are correct that if the array is unsorted and you only need to perform a single search operation, then the linear search algorithm would be more efficient than sorting the array and performing binary search. However, there may be scenarios where you need to perform multiple search operations on the same array, in which case it might be more efficient to sort the array first and then perform binary search.\n",
    "\n",
    "For example, consider an application where you need to repeatedly search for elements in a large dataset, such as a database of customer records or a collection of scientific data. In this scenario, sorting the dataset once and then performing binary search on the sorted array can significantly reduce the total amount of time required to perform all of the searches. This is because the O(n log n) cost of sorting the array is amortized over all of the subsequent search operations, which can be performed much more quickly using binary search.\n",
    "\n",
    "Furthermore, in certain cases, sorting the array may be a necessary preprocessing step before you can perform other types of algorithms or analyses on the data. For instance, many statistical methods require the input data to be sorted before they can be applied. In such cases, performing binary search becomes a natural choice since the array is already sorted.\n",
    "\n",
    "In summary, whether to use linear search or binary search depends on the specifics of the problem at hand. While linear search may be more efficient for a single search operation on an unsorted array, sorting the array and using binary search may be more efficient for repeated searches or in situations where the array needs to be sorted anyway for other purposes.\n",
    "\n",
    "\n",
    "#### d) \n",
    "When working with a very large dataset that cannot fit entirely in memory, the most efficient sorting algorithm will depend on various factors such as the size of the dataset, the available memory, and the speed of the storage system.\n",
    "\n",
    "In general, merge sort is a better choice than quicksort for sorting large datasets where the entire dataset cannot fit into memory. This is because merge sort is a stable, divide-and-conquer algorithm that works by dividing the input into smaller sub-problems, sorting each of these sub-problems recursively, and then merging the sorted results back together.\n",
    "\n",
    "During the merge phase, only a small portion of each sub-array needs to be loaded into memory at any given time. This means that even if the entire dataset cannot fit into memory, the algorithm can still operate by reading and writing portions of the data to disk as needed. Additionally, because merge sort is a stable algorithm, it can be used to sort data with multiple keys or criteria.\n",
    "\n",
    "On the other hand, quicksort is an in-place sorting algorithm that works by partitioning the input into two sub-arrays, one containing values greater than the pivot and another containing values less than the pivot. The process is then repeated recursively on each of these sub-arrays until the entire input is sorted.\n",
    "\n",
    "However, quicksort requires swapping elements in memory during the partitioning phase, which can be problematic when dealing with large datasets that do not fit in memory. In addition, quicksort has a worst-case time complexity of O(n^2), which can occur when the pivot selection leads to highly unbalanced partitions. While randomized pivot selection can help avoid this issue, it may still be less desirable than merge sort for large datasets.\n",
    "\n",
    "Therefore, in an environment where memory is limited and the entire dataset cannot fit into memory, merge sort would generally be a better choice than quicksort due to its ability to operate on sub-sections of the data at a time.\n",
    "\n",
    "#### e)\n",
    "Quick sort is a divide-and-conquer algorithm that works by selecting a pivot element from the array and partitioning the other elements into two sub-arrays, according to whether they are less than or greater than the pivot. The algorithm then recursively sorts the sub-arrays.\n",
    "\n",
    "In the worst-case scenario, quicksort has a time complexity of O(n^2) when the partitioning routine consistently chooses an element that is already sorted or nearly sorted, resulting in very unbalanced partitions. However, for most inputs, quicksort has a time complexity of O(n log n).\n",
    "\n",
    "To construct an array where quicksort fails to work in O(n log n) time, we need to create an input array such that the partitioning step always produces extremely unbalanced partitions. One way to do this is to create an array that is already sorted or nearly sorted in reverse order.\n",
    "\n",
    "For example, consider the following array:\n",
    "\n",
    "`arr = [10, 9, 8, 7, 6, 5, 4, 3, 2, 1]`\n",
    "\n",
    "If we choose the last element (1) as the pivot in the partitioning step, all the other elements will be greater than the pivot, resulting in one sub-array with n-1 elements and another sub-array with a single element. This means that each recursive call will process an array of size n-1 and an array of size 1, leading to a total of n recursive calls, resulting in a time complexity of O(n^2), which is worse than O(n log n).\n",
    "\n",
    "Therefore, quicksort would not work efficiently for this input array, and other sorting algorithms like mergesort may be more appropriate."
   ]
  },
  {
   "attachments": {},
   "cell_type": "markdown",
   "metadata": {},
   "source": [
    "count sort example"
   ]
  },
  {
   "cell_type": "code",
   "execution_count": 12,
   "metadata": {},
   "outputs": [
    {
     "name": "stdout",
     "output_type": "stream",
     "text": [
      "[0, 2, 5, 9, 11, 11, 13, 16]\n"
     ]
    }
   ],
   "source": [
    "def countSort(arr):\n",
    "    maxEL = max(arr)+1\n",
    "    count = [0] * maxEL\n",
    "\n",
    "    for i in range(len(arr)):\n",
    "        count[arr[i]]+=1\n",
    "    \n",
    "    for i in range(1, maxEL):\n",
    "        count[i] += count[i-1]\n",
    "\n",
    "    final = [0] * len(arr)\n",
    "    for i in range(len(arr)-1, -1, -1):\n",
    "        pointer = arr[i]\n",
    "        count[pointer] -= 1\n",
    "        final[count[pointer]] = pointer\n",
    "\n",
    "    print(final)\n",
    "\n",
    "arr = [9, 0, 11, 13, 16, 2, 11, 5]\n",
    "countSort(arr)"
   ]
  },
  {
   "attachments": {},
   "cell_type": "markdown",
   "metadata": {},
   "source": [
    "#### b)\n",
    "Can you modify count sort so that it may work with negative integers as well?"
   ]
  },
  {
   "cell_type": "code",
   "execution_count": 35,
   "metadata": {},
   "outputs": [
    {
     "name": "stdout",
     "output_type": "stream",
     "text": [
      "[-4, -2, 1, 5, 7, 7, 9, 12]\n"
     ]
    }
   ],
   "source": [
    "def countSort(arr):\n",
    "    minEl = min(arr)\n",
    "    \n",
    "    for i in range(len(arr)):\n",
    "        arr[i] += (minEl * -1) \n",
    "\n",
    "    maxEL = max(arr)+1\n",
    "    count = [0] * maxEL\n",
    "\n",
    "    for i in range(len(arr)):\n",
    "        count[arr[i]]+=1\n",
    "    \n",
    "    for i in range(1, maxEL):\n",
    "        count[i] += count[i-1]\n",
    "\n",
    "    final = [0] * len(arr)\n",
    "    for i in range(len(arr)-1, -1, -1):\n",
    "        pointer = arr[i]\n",
    "        count[pointer] -= 1\n",
    "        final[count[pointer]] = pointer\n",
    "\n",
    "    for i in range(len(arr)):\n",
    "        final[i] += minEl\n",
    "\n",
    "    print(final)\n",
    "\n",
    "arr = [5, -4, 7, 9, 12, -2, 7, 1]\n",
    "countSort(arr)"
   ]
  },
  {
   "attachments": {},
   "cell_type": "markdown",
   "metadata": {},
   "source": [
    "counting sort on floating point value"
   ]
  },
  {
   "cell_type": "code",
   "execution_count": 61,
   "metadata": {},
   "outputs": [
    {
     "name": "stdout",
     "output_type": "stream",
     "text": [
      "[-5.0, -4.0, 0.0, 1.0, 1.0, 2.0, 2.0, 2.0, 5.0, 5.0, 5.0, 6.0, 7.0, 9.0]\n"
     ]
    }
   ],
   "source": [
    "def countSort(arr):\n",
    "    arr = [int(x)*10 for x in arr]\n",
    "\n",
    "    minEl = min(arr)\n",
    "    arr = [x+abs(minEl) for x in arr]\n",
    "\n",
    "    maxEl = max(arr)+1\n",
    "    count = [0] * maxEl\n",
    "\n",
    "    for i in range(len(arr)):\n",
    "        count[arr[i]]+=1\n",
    "    \n",
    "    for i in range(1, maxEl):\n",
    "        count[i] += count[i-1]\n",
    "\n",
    "    final = [0] * len(arr)\n",
    "    for i in range(len(arr)-1, -1, -1):\n",
    "        pointer = arr[i]\n",
    "        count[pointer] -= 1\n",
    "        final[count[pointer]] = pointer\n",
    "    \n",
    "    final = [(x+minEl)/10 for x in final]\n",
    "\n",
    "    return final\n",
    "\n",
    "\n",
    "\n",
    "arr = [2, 5, 1.2, 6.7, 1.7, 9.3, 2.2, 7.7, 0, -4, -5.1, 2, 5, 5.2]\n",
    "\n",
    "output = countSort(arr)\n",
    "\n",
    "print(output)"
   ]
  },
  {
   "attachments": {},
   "cell_type": "markdown",
   "metadata": {},
   "source": [
    "Merge sort code"
   ]
  },
  {
   "cell_type": "code",
   "execution_count": 4,
   "metadata": {},
   "outputs": [
    {
     "name": "stdout",
     "output_type": "stream",
     "text": [
      "[1, 2, 3, 4, 5]\n"
     ]
    }
   ],
   "source": [
    "def partition(arr):\n",
    "  if len(arr) <= 1:\n",
    "    return arr\n",
    "  mid = len(arr) // 2\n",
    "  leftPart = arr[:mid]\n",
    "  rightPart = arr[mid:]\n",
    "\n",
    "  leftSorted = partition(leftPart)\n",
    "  rightSorted = partition(rightPart)\n",
    "\n",
    "  return merge(leftSorted, rightSorted)\n",
    "\n",
    "def merge(left, right):\n",
    "  arr = []\n",
    "  i = j = 0\n",
    "\n",
    "  while i < len(left) and j < len(right):\n",
    "    if left[i] < right[j]:\n",
    "      arr.append(left[i])\n",
    "      i+=1\n",
    "    else:\n",
    "      arr.append(right[j])\n",
    "      j+=1\n",
    "\n",
    "  while i < len(left):\n",
    "    arr.append(left[i])\n",
    "    i+=1\n",
    "\n",
    "  while j < len(right):\n",
    "    arr.append(right[j])\n",
    "    j+=1\n",
    "\n",
    "  return arr\n",
    "\n",
    "\n",
    "arr = partition([5, 4, 3, 2, 1])\n",
    "print(arr)"
   ]
  },
  {
   "attachments": {},
   "cell_type": "markdown",
   "metadata": {},
   "source": [
    "Quick sort code"
   ]
  },
  {
   "cell_type": "code",
   "execution_count": 13,
   "metadata": {},
   "outputs": [
    {
     "name": "stdout",
     "output_type": "stream",
     "text": [
      "[1, 2, 4, 3, 5]\n"
     ]
    }
   ],
   "source": [
    "from asyncio.windows_events import INFINITE\n",
    "\n",
    "def quickSort(arr, low, high):\n",
    "    if low < high:\n",
    "      pivot = partition(arr, low, high)\n",
    "      quickSort(arr, low, pivot-1)\n",
    "      quickSort(arr, pivot+1, high)\n",
    "\n",
    "def partition(arr, low, high):\n",
    "    pi = arr[low]\n",
    "    p = low\n",
    "    q = high\n",
    "\n",
    "    while arr[p] <= pi:\n",
    "        p+=1\n",
    "    while arr[q] > pi:\n",
    "        q-=1\n",
    "        if p < q:\n",
    "            arr[p], arr[q] = arr[q], arr[p]\n",
    "    arr[low], arr[q] = arr[q], arr[low]\n",
    "    return q\n",
    "\n",
    "arr = [5, 4, 3, 2, 1]\n",
    "arr.append(INFINITE)\n",
    "quickSort(arr, 0, len(arr)-1)\n",
    "print(arr[:-1])"
   ]
  },
  {
   "attachments": {},
   "cell_type": "markdown",
   "metadata": {},
   "source": [
    "#### Question - 5\n",
    "\n",
    "You have recently joined Facebark as a software engineer. It's a new social media platform where people share pictures of their dogs. Facebark has a lot of functionalities that you have been hired to enhance. For example, users can search another user's profile by name. There is a newsfeed where posts by Facebark friends appear. Each user has a numerical ID and a visible username. The ID works like this: the ID of the first person to register on Facebark is 0, the second person's is 1, the third person's is 2, and so on. \n",
    "\n",
    "|id|0|1|2|3|4|5|\n",
    "|-|-|-|-|-|-|-|\n",
    "|username|Woof|Pupper|Max|Tuck|Rocky|Daisy|\n",
    "\n",
    "a) Suppose, the total number of users in Facebark is n. The previous engineer implemented the searching feature using an algorithm of O(n) time complexity. Write the pseudo-code of that algorithm.\n",
    "\n",
    "```\n",
    "for i in range(n):\n",
    "  if arr[i] == target:\n",
    "    return i\n",
    "```\n",
    "\n",
    "\n",
    "\n",
    "\n"
   ]
  }
 ],
 "metadata": {
  "kernelspec": {
   "display_name": "Python 3",
   "language": "python",
   "name": "python3"
  },
  "language_info": {
   "codemirror_mode": {
    "name": "ipython",
    "version": 3
   },
   "file_extension": ".py",
   "mimetype": "text/x-python",
   "name": "python",
   "nbconvert_exporter": "python",
   "pygments_lexer": "ipython3",
   "version": "3.11.3"
  },
  "orig_nbformat": 4
 },
 "nbformat": 4,
 "nbformat_minor": 2
}
